{
 "cells": [
  {
   "cell_type": "code",
   "execution_count": 54,
   "id": "ea6b45d0",
   "metadata": {},
   "outputs": [
    {
     "data": {
      "text/html": [
       "<div>\n",
       "<style scoped>\n",
       "    .dataframe tbody tr th:only-of-type {\n",
       "        vertical-align: middle;\n",
       "    }\n",
       "\n",
       "    .dataframe tbody tr th {\n",
       "        vertical-align: top;\n",
       "    }\n",
       "\n",
       "    .dataframe thead th {\n",
       "        text-align: right;\n",
       "    }\n",
       "</style>\n",
       "<table border=\"1\" class=\"dataframe\">\n",
       "  <thead>\n",
       "    <tr style=\"text-align: right;\">\n",
       "      <th></th>\n",
       "      <th>Date</th>\n",
       "      <th>Open</th>\n",
       "      <th>High</th>\n",
       "      <th>Low</th>\n",
       "      <th>Close</th>\n",
       "      <th>Adj Close</th>\n",
       "      <th>Volume</th>\n",
       "    </tr>\n",
       "  </thead>\n",
       "  <tbody>\n",
       "    <tr>\n",
       "      <th>0</th>\n",
       "      <td>2010-06-30</td>\n",
       "      <td>1.719333</td>\n",
       "      <td>2.028000</td>\n",
       "      <td>1.553333</td>\n",
       "      <td>1.588667</td>\n",
       "      <td>1.588667</td>\n",
       "      <td>257806500</td>\n",
       "    </tr>\n",
       "    <tr>\n",
       "      <th>1</th>\n",
       "      <td>2010-07-01</td>\n",
       "      <td>1.666667</td>\n",
       "      <td>1.728000</td>\n",
       "      <td>1.351333</td>\n",
       "      <td>1.464000</td>\n",
       "      <td>1.464000</td>\n",
       "      <td>123282000</td>\n",
       "    </tr>\n",
       "    <tr>\n",
       "      <th>2</th>\n",
       "      <td>2010-07-02</td>\n",
       "      <td>1.533333</td>\n",
       "      <td>1.540000</td>\n",
       "      <td>1.247333</td>\n",
       "      <td>1.280000</td>\n",
       "      <td>1.280000</td>\n",
       "      <td>77097000</td>\n",
       "    </tr>\n",
       "    <tr>\n",
       "      <th>3</th>\n",
       "      <td>2010-07-06</td>\n",
       "      <td>1.333333</td>\n",
       "      <td>1.333333</td>\n",
       "      <td>1.055333</td>\n",
       "      <td>1.074000</td>\n",
       "      <td>1.074000</td>\n",
       "      <td>103003500</td>\n",
       "    </tr>\n",
       "    <tr>\n",
       "      <th>4</th>\n",
       "      <td>2010-07-07</td>\n",
       "      <td>1.093333</td>\n",
       "      <td>1.108667</td>\n",
       "      <td>0.998667</td>\n",
       "      <td>1.053333</td>\n",
       "      <td>1.053333</td>\n",
       "      <td>103825500</td>\n",
       "    </tr>\n",
       "    <tr>\n",
       "      <th>5</th>\n",
       "      <td>2010-07-08</td>\n",
       "      <td>1.076000</td>\n",
       "      <td>1.168000</td>\n",
       "      <td>1.038000</td>\n",
       "      <td>1.164000</td>\n",
       "      <td>1.164000</td>\n",
       "      <td>115671000</td>\n",
       "    </tr>\n",
       "    <tr>\n",
       "      <th>6</th>\n",
       "      <td>2010-07-09</td>\n",
       "      <td>1.172000</td>\n",
       "      <td>1.193333</td>\n",
       "      <td>1.103333</td>\n",
       "      <td>1.160000</td>\n",
       "      <td>1.160000</td>\n",
       "      <td>60759000</td>\n",
       "    </tr>\n",
       "    <tr>\n",
       "      <th>7</th>\n",
       "      <td>2010-07-12</td>\n",
       "      <td>1.196667</td>\n",
       "      <td>1.204667</td>\n",
       "      <td>1.133333</td>\n",
       "      <td>1.136667</td>\n",
       "      <td>1.136667</td>\n",
       "      <td>33037500</td>\n",
       "    </tr>\n",
       "    <tr>\n",
       "      <th>8</th>\n",
       "      <td>2010-07-13</td>\n",
       "      <td>1.159333</td>\n",
       "      <td>1.242667</td>\n",
       "      <td>1.126667</td>\n",
       "      <td>1.209333</td>\n",
       "      <td>1.209333</td>\n",
       "      <td>40201500</td>\n",
       "    </tr>\n",
       "    <tr>\n",
       "      <th>9</th>\n",
       "      <td>2010-07-14</td>\n",
       "      <td>1.196000</td>\n",
       "      <td>1.343333</td>\n",
       "      <td>1.184000</td>\n",
       "      <td>1.322667</td>\n",
       "      <td>1.322667</td>\n",
       "      <td>62928000</td>\n",
       "    </tr>\n",
       "  </tbody>\n",
       "</table>\n",
       "</div>"
      ],
      "text/plain": [
       "         Date      Open      High       Low     Close  Adj Close     Volume\n",
       "0  2010-06-30  1.719333  2.028000  1.553333  1.588667   1.588667  257806500\n",
       "1  2010-07-01  1.666667  1.728000  1.351333  1.464000   1.464000  123282000\n",
       "2  2010-07-02  1.533333  1.540000  1.247333  1.280000   1.280000   77097000\n",
       "3  2010-07-06  1.333333  1.333333  1.055333  1.074000   1.074000  103003500\n",
       "4  2010-07-07  1.093333  1.108667  0.998667  1.053333   1.053333  103825500\n",
       "5  2010-07-08  1.076000  1.168000  1.038000  1.164000   1.164000  115671000\n",
       "6  2010-07-09  1.172000  1.193333  1.103333  1.160000   1.160000   60759000\n",
       "7  2010-07-12  1.196667  1.204667  1.133333  1.136667   1.136667   33037500\n",
       "8  2010-07-13  1.159333  1.242667  1.126667  1.209333   1.209333   40201500\n",
       "9  2010-07-14  1.196000  1.343333  1.184000  1.322667   1.322667   62928000"
      ]
     },
     "execution_count": 54,
     "metadata": {},
     "output_type": "execute_result"
    }
   ],
   "source": [
    "import  pandas as pd\n",
    "import numpy as np \n",
    "import matplotlib.pyplot as plt\n",
    "\n",
    "df=pd.read_csv('C:/Users/KIIT/Downloads/tesla_dataset.csv')\n",
    "\n",
    "df.head(n=10)\n"
   ]
  },
  {
   "cell_type": "code",
   "execution_count": 55,
   "id": "dd8ce14a",
   "metadata": {},
   "outputs": [
    {
     "data": {
      "text/plain": [
       "(3077, 7)"
      ]
     },
     "execution_count": 55,
     "metadata": {},
     "output_type": "execute_result"
    }
   ],
   "source": [
    "df.shape\n",
    "\n",
    "\n"
   ]
  },
  {
   "cell_type": "markdown",
   "id": "2156f3ff",
   "metadata": {},
   "source": [
    "# checking for   not availabel  data"
   ]
  },
  {
   "cell_type": "code",
   "execution_count": 4,
   "id": "fbeb6f1a",
   "metadata": {},
   "outputs": [
    {
     "data": {
      "text/plain": [
       "Date         0\n",
       "Open         0\n",
       "High         0\n",
       "Low          0\n",
       "Close        0\n",
       "Adj Close    0\n",
       "Volume       0\n",
       "dtype: int64"
      ]
     },
     "execution_count": 4,
     "metadata": {},
     "output_type": "execute_result"
    }
   ],
   "source": [
    "df.isna().sum()\n",
    "\n",
    "\n",
    "\n"
   ]
  },
  {
   "cell_type": "code",
   "execution_count": 3,
   "id": "381feb18",
   "metadata": {
    "scrolled": true
   },
   "outputs": [
    {
     "name": "stdout",
     "output_type": "stream",
     "text": [
      "<class 'pandas.core.frame.DataFrame'>\n",
      "RangeIndex: 3077 entries, 0 to 3076\n",
      "Data columns (total 7 columns):\n",
      " #   Column     Non-Null Count  Dtype  \n",
      "---  ------     --------------  -----  \n",
      " 0   Date       3077 non-null   object \n",
      " 1   Open       3077 non-null   float64\n",
      " 2   High       3077 non-null   float64\n",
      " 3   Low        3077 non-null   float64\n",
      " 4   Close      3077 non-null   float64\n",
      " 5   Adj Close  3077 non-null   float64\n",
      " 6   Volume     3077 non-null   int64  \n",
      "dtypes: float64(5), int64(1), object(1)\n",
      "memory usage: 168.4+ KB\n"
     ]
    }
   ],
   "source": [
    "df.info()\n"
   ]
  },
  {
   "cell_type": "markdown",
   "id": "7961f86e",
   "metadata": {},
   "source": [
    "#Checking for  correlation of the aboce data "
   ]
  },
  {
   "cell_type": "code",
   "execution_count": 75,
   "id": "801890d1",
   "metadata": {},
   "outputs": [
    {
     "data": {
      "text/plain": [
       "<AxesSubplot:>"
      ]
     },
     "execution_count": 75,
     "metadata": {},
     "output_type": "execute_result"
    },
    {
     "data": {
      "image/png": "[encoded data removed]",
      "text/plain": [
       "<Figure size 720x720 with 2 Axes>"
      ]
     },
     "metadata": {
      "needs_background": "light"
     },
     "output_type": "display_data"
    }
   ],
   "source": [
    "import matplotlib.pyplot as plt \n",
    "import seaborn as sns\n",
    "plt.figure(figsize=(10,10))\n",
    "corr=df.corr()\n",
    "#corr[(corr < 0.25) & (corr > -0.25)] = 0\n",
    "sns.heatmap(corr,annot=True,linewidth=2)\n",
    "\n",
    "\n",
    "\n"
   ]
  },
  {
   "cell_type": "code",
   "execution_count": 7,
   "id": "072a8ca1",
   "metadata": {},
   "outputs": [
    {
     "data": {
      "text/plain": [
       "(array([-100.,    0.,  100.,  200.,  300.,  400.,  500.]),\n",
       " [Text(0, 0, ''),\n",
       "  Text(0, 0, ''),\n",
       "  Text(0, 0, ''),\n",
       "  Text(0, 0, ''),\n",
       "  Text(0, 0, ''),\n",
       "  Text(0, 0, ''),\n",
       "  Text(0, 0, '')])"
      ]
     },
     "execution_count": 7,
     "metadata": {},
     "output_type": "execute_result"
    },
    {
     "data": {
      "image/png": "[encoded data removed]",
      "text/plain": [
       "<Figure size 720x720 with 1 Axes>"
      ]
     },
     "metadata": {
      "needs_background": "light"
     },
     "output_type": "display_data"
    }
   ],
   "source": [
    "#now showing in bar graph \n",
    "plt.figure(figsize=(10,10))\n",
    "sns.lineplot(data=df, x=\"High\",y=\"Volume\")\n",
    "plt.xticks(rotation = 25\n",
    "\n",
    "\n"
   ]
  },
  {
   "cell_type": "code",
   "execution_count": 16,
   "id": "a9fb5906",
   "metadata": {},
   "outputs": [
    {
     "data": {
      "text/plain": [
       "Text(0.5, 1.0, 'Opening price')"
      ]
     },
     "execution_count": 16,
     "metadata": {},
     "output_type": "execute_result"
    },
    {
     "data": {
      "image/png": "[encoded data removed]",
      "text/plain": [
       "<Figure size 1296x720 with 2 Axes>"
      ]
     },
     "metadata": {
      "needs_background": "light"
     },
     "output_type": "display_data"
    }
   ],
   "source": [
    "fig, axes = plt.subplots(1, 2, figsize=(18, 10))\n",
    "sns.lineplot(ax=axes[0],data=df, x=\"Date\",y=\"Close\")\n",
    "axes[0].set_title('Closing price')\n",
    "\n",
    "sns.lineplot(ax=axes[1],data=df, x=\"Date\",y=\"Open\")\n",
    "axes[1].set_title('Opening price')\n",
    "\n",
    "\n",
    "\n",
    "           "
   ]
  },
  {
   "cell_type": "code",
   "execution_count": 15,
   "id": "7c1a2b48",
   "metadata": {
    "scrolled": true
   },
   "outputs": [
    {
     "data": {
      "text/plain": [
       "Text(0.5, 1.0, 'Volume vs Closing price')"
      ]
     },
     "execution_count": 15,
     "metadata": {},
     "output_type": "execute_result"
    },
    {
     "data": {
      "image/png": "[encoded data removed]",
      "text/plain": [
       "<Figure size 1080x360 with 2 Axes>"
      ]
     },
     "metadata": {
      "needs_background": "light"
     },
     "output_type": "display_data"
    }
   ],
   "source": [
    "# Open\n",
    "fig, axes = plt.subplots(1, 2, figsize=(15, 5), sharey=True)\n",
    "sns.lineplot(ax=axes[0], x='Open', y='Volume',data=df)\n",
    "axes[0].set_title('VOLUME VS OPENING PRICE')\n",
    "\n",
    "# Close\n",
    "sns.lineplot(ax=axes[1], x='Close', y='Volume',data=df)\n",
    "axes[1].set_title('Volume vs Closing price')\n",
    "\n"
   ]
  },
  {
   "cell_type": "code",
   "execution_count": 56,
   "id": "fea42614",
   "metadata": {},
   "outputs": [
    {
     "name": "stderr",
     "output_type": "stream",
     "text": [
      "C:\\Users\\KIIT\\AppData\\Local\\Temp/ipykernel_6404/846180199.py:1: FutureWarning: casting datetime64[ns] values to int64 with .astype(...) is deprecated and will raise in a future version. Use .view(...) instead.\n",
      "  df['Date']=pd.to_datetime(df['Date']).astype('int64')\n"
     ]
    }
   ],
   "source": [
    "df['Date']=pd.to_datetime(df['Date']).astype('int64')\n",
    "\n"
   ]
  },
  {
   "cell_type": "code",
   "execution_count": 57,
   "id": "667d6fb8",
   "metadata": {},
   "outputs": [
    {
     "data": {
      "text/plain": [
       "0       1277856000000000000\n",
       "1       1277942400000000000\n",
       "2       1278028800000000000\n",
       "3       1278374400000000000\n",
       "4       1278460800000000000\n",
       "               ...         \n",
       "3072    1663027200000000000\n",
       "3073    1663113600000000000\n",
       "3074    1663200000000000000\n",
       "3075    1663286400000000000\n",
       "3076    1663545600000000000\n",
       "Name: Date, Length: 3077, dtype: int64"
      ]
     },
     "execution_count": 57,
     "metadata": {},
     "output_type": "execute_result"
    }
   ],
   "source": [
    "df['Date']\n",
    "\n"
   ]
  },
  {
   "cell_type": "code",
   "execution_count": 20,
   "id": "f787570d",
   "metadata": {},
   "outputs": [],
   "source": []
  },
  {
   "cell_type": "code",
   "execution_count": 58,
   "id": "e7d75a44",
   "metadata": {},
   "outputs": [],
   "source": [
    "X=df.iloc[:,:-1]\n",
    "y=df.iloc[:,-1]\n",
    "\n"
   ]
  },
  {
   "cell_type": "code",
   "execution_count": 25,
   "id": "c0f30f07",
   "metadata": {},
   "outputs": [
    {
     "data": {
      "text/plain": [
       "0       257806500\n",
       "1       123282000\n",
       "2        77097000\n",
       "3       103003500\n",
       "4       103825500\n",
       "          ...    \n",
       "3072     68229600\n",
       "3073     72628700\n",
       "3074     64795500\n",
       "3075     86949500\n",
       "3076     60060200\n",
       "Name: Volume, Length: 3077, dtype: int64"
      ]
     },
     "execution_count": 25,
     "metadata": {},
     "output_type": "execute_result"
    }
   ],
   "source": [
    "y\n"
   ]
  },
  {
   "cell_type": "code",
   "execution_count": 68,
   "id": "db3ee4fc",
   "metadata": {},
   "outputs": [
    {
     "data": {
      "text/plain": [
       "((2461, 6), (616, 6), (2461,), (616,))"
      ]
     },
     "execution_count": 68,
     "metadata": {},
     "output_type": "execute_result"
    }
   ],
   "source": [
    "from sklearn import preprocessing\n",
    "from sklearn.model_selection import train_test_split\n",
    "\n",
    "X_train, X_test, y_train, y_test = train_test_split(X, y, test_size = 0.2, random_state = 0)\n",
    "X_train.shape, X_test.shape, y_train.shape, y_test.shape\n",
    "\n"
   ]
  },
  {
   "cell_type": "code",
   "execution_count": null,
   "id": "a52af50e",
   "metadata": {},
   "outputs": [],
   "source": []
  },
  {
   "cell_type": "code",
   "execution_count": 27,
   "id": "6222e32a",
   "metadata": {},
   "outputs": [
    {
     "data": {
      "text/plain": [
       "array([1.32582919e+08, 8.41996222e+07, 8.20621996e+07, 9.05500048e+07,\n",
       "       1.37067460e+08, 9.75436668e+07, 1.16531685e+08, 1.26951180e+08,\n",
       "       9.85923208e+07, 5.97442034e+07, 1.09075276e+08, 9.03685343e+07,\n",
       "       8.39756214e+07, 8.10314026e+07, 4.47931272e+07, 1.33559902e+08,\n",
       "       8.22265394e+07, 8.50580544e+07, 7.80549593e+07, 1.15107429e+08,\n",
       "       1.37040943e+08, 8.98415799e+07, 1.18675840e+08, 9.79634695e+07,\n",
       "       7.01633754e+07, 8.27495662e+07, 6.61362354e+07, 6.26619981e+07,\n",
       "       8.26281016e+07, 6.63878270e+07, 8.55310934e+07, 9.17404037e+07,\n",
       "       1.36369472e+08, 6.81673331e+07, 8.31475214e+07, 1.18428692e+08,\n",
       "       1.23075624e+08, 1.13727431e+08, 1.15165463e+08, 1.12811898e+08,\n",
       "       6.85705083e+07, 7.40294211e+07, 8.05705518e+07, 9.23575502e+07,\n",
       "       1.13195373e+08, 7.11086640e+07, 6.84868931e+07, 1.24052966e+08,\n",
       "       1.20174554e+08, 1.03744997e+08, 6.96413551e+07, 1.25110563e+08,\n",
       "       1.01269958e+08, 1.35612126e+08, 1.15572245e+08, 9.79550007e+07,\n",
       "       1.35376374e+08, 1.24400671e+08, 8.41378369e+07, 9.03211088e+07,\n",
       "       1.29392805e+08, 9.46318680e+07, 8.58366732e+07, 1.23323647e+08,\n",
       "       1.36601211e+08, 7.95698371e+07, 1.36572919e+08, 8.77876754e+07,\n",
       "       1.00430548e+08, 6.98928908e+07, 1.13700592e+08, 7.93017784e+07,\n",
       "       1.02036338e+08, 7.89140455e+07, 6.32836864e+07, 1.19176038e+08,\n",
       "       9.06406734e+07, 1.35062572e+08, 7.95193589e+07, 7.57212006e+07,\n",
       "       1.13670232e+08, 1.16365343e+08, 1.02902425e+08, 8.40984460e+07,\n",
       "       8.74239848e+07, 1.26736980e+08, 9.46491144e+07, 1.07450765e+08,\n",
       "       9.85947514e+07, 6.01717487e+07, 6.39169011e+07, 9.06245115e+07,\n",
       "       7.45939929e+07, 1.15261106e+08, 1.05640371e+08, 8.40153933e+07,\n",
       "       7.02420167e+07, 7.41126933e+07, 7.33739422e+07, 6.04977194e+07,\n",
       "       1.34976399e+08, 6.01149345e+07, 1.09507136e+08, 1.05492566e+08,\n",
       "       1.87076213e+07, 1.13040226e+08, 9.43910088e+07, 1.36967553e+08,\n",
       "       8.32541127e+07, 8.35268046e+07, 7.03285709e+07, 1.22887369e+08,\n",
       "       6.40102887e+07, 9.29360351e+07, 8.42197800e+07, 6.76471948e+07,\n",
       "       7.17804566e+07, 9.72163699e+07, 1.12727722e+08, 7.91861256e+07,\n",
       "       1.22702486e+08, 8.97483383e+07, 6.73038599e+07, 4.37258848e+07,\n",
       "       1.26655558e+08, 1.16431969e+08, 7.86484709e+07, 9.17052284e+07,\n",
       "       8.75565711e+07, 1.13205572e+08, 7.83462083e+07, 1.26391949e+08,\n",
       "       1.28096657e+08, 8.78718569e+07, 1.36079336e+08, 8.42125952e+07,\n",
       "       7.05248425e+07, 7.26986547e+07, 8.05819209e+07, 9.00822572e+07,\n",
       "       6.20500167e+07, 1.35578952e+08, 9.83290485e+07, 6.25138599e+07,\n",
       "       8.15420483e+07, 1.33645363e+08, 7.99451899e+07, 9.79121845e+07,\n",
       "       9.84256456e+07, 7.63663466e+07, 1.22562677e+08, 8.19217704e+07,\n",
       "       7.65102605e+07, 7.59924023e+07, 1.03220018e+08, 1.35424785e+08,\n",
       "       6.53279920e+07, 9.86487168e+07, 1.33493145e+08, 5.93213215e+07,\n",
       "       1.18472209e+08, 6.48527555e+07, 8.73551716e+07, 1.34516801e+08,\n",
       "       6.32887810e+07, 7.37304532e+07, 7.18901252e+07, 1.03032929e+08,\n",
       "       8.15856660e+07, 3.39388069e+07, 2.40349931e+07, 1.35037937e+08,\n",
       "       1.08862005e+08, 7.97156637e+07, 1.31510264e+08, 1.23868932e+08,\n",
       "       9.53102829e+07, 9.29485561e+07, 1.31625651e+08, 7.86521120e+07,\n",
       "       6.65576351e+07, 9.57936407e+07, 6.71601057e+07, 7.81305235e+07,\n",
       "       1.36969149e+08, 8.01375619e+07, 1.05366687e+08, 8.91991853e+07,\n",
       "       5.37336676e+07, 8.12793670e+07, 9.18365260e+07, 1.05670134e+08,\n",
       "       8.75344271e+07, 7.01782899e+07, 9.53489385e+07, 9.02954064e+07,\n",
       "       3.83887289e+07, 1.00291925e+08, 1.02864995e+08, 8.98260914e+07,\n",
       "       8.74048063e+07, 5.26811163e+07, 1.12767944e+08, 1.09633844e+08,\n",
       "       1.05740518e+08, 8.88065474e+07, 6.11082744e+07, 9.77481972e+07,\n",
       "       7.62560377e+07, 8.72977106e+07, 7.30980999e+07, 7.55166077e+07,\n",
       "       7.68599170e+07, 8.98361191e+07, 6.52184469e+07, 1.33948063e+08,\n",
       "       7.66347696e+07, 1.23967148e+08, 1.13248688e+08, 9.18189178e+07,\n",
       "       6.05845740e+07, 1.12754916e+08, 7.28895810e+07, 9.03208332e+07,\n",
       "       2.70460750e+07, 8.05293577e+07, 1.13848130e+08, 3.36915510e+07,\n",
       "       1.22932223e+08, 1.30136098e+08, 7.60012688e+07, 9.06958831e+07,\n",
       "       7.82951115e+07, 1.02214890e+08, 1.14903235e+08, 1.35956888e+08,\n",
       "       1.27029792e+08, 9.38694253e+07, 7.74099128e+07, 1.23623482e+08,\n",
       "       1.16908363e+08, 9.32252683e+07, 8.77264163e+07, 9.80751841e+07,\n",
       "       1.26532537e+08, 9.77192416e+07, 1.00001483e+08, 9.01217548e+07,\n",
       "       4.02453121e+07, 1.11294813e+08, 1.23248190e+08, 1.34026536e+08,\n",
       "       6.01757162e+07, 8.23131870e+07, 9.28405822e+07, 1.13912521e+08,\n",
       "       6.97872556e+07, 1.26800893e+08, 5.25639130e+07, 1.12928717e+08,\n",
       "       6.41151442e+07, 1.25094009e+08, 2.98203803e+07, 6.81541516e+07,\n",
       "       6.64622895e+07, 7.85092126e+07, 1.37092187e+08, 8.74032607e+07,\n",
       "       1.28409111e+08, 8.74969294e+07, 6.69208701e+07, 1.15068962e+08,\n",
       "       8.67630531e+07, 7.64002198e+07, 7.53576209e+07, 2.14073419e+07,\n",
       "       6.58271998e+07, 1.29806467e+08, 3.28015864e+07, 1.09865609e+08,\n",
       "       9.80372620e+07, 1.38009850e+08, 8.73575552e+07, 1.19647749e+08,\n",
       "       1.13137116e+08, 1.25057032e+08, 1.17612785e+08, 1.24997449e+08,\n",
       "       8.11267147e+07, 8.51124931e+07, 1.08758462e+08, 7.56742922e+07,\n",
       "       9.52754027e+07, 3.67433227e+07, 1.11413350e+08, 7.34843711e+07,\n",
       "       8.99788489e+07, 1.03419192e+08, 1.13841603e+08, 9.69345612e+07,\n",
       "       1.28551580e+08, 6.60241999e+07, 9.06030375e+07, 1.31524638e+08,\n",
       "       9.08584471e+07, 1.36427791e+08, 1.30345161e+08, 9.74694788e+07,\n",
       "       7.52940660e+07, 9.74674527e+07, 7.15442219e+07, 1.36011490e+08,\n",
       "       7.94308465e+07, 3.15963527e+07, 6.71415548e+07, 1.13919684e+08,\n",
       "       1.36070490e+08, 6.80350197e+07, 6.18336821e+07, 1.18625825e+07,\n",
       "       5.98973912e+07, 1.07849234e+08, 1.08868384e+08, 6.57018766e+07,\n",
       "       1.88181720e+07, 1.14727687e+08, 1.02971598e+08, 9.73754917e+07,\n",
       "       1.35997853e+08, 9.31207332e+07, 8.86201479e+07, 8.17232619e+07,\n",
       "       7.05567109e+07, 9.80487236e+07, 1.13636184e+08, 6.55365203e+07,\n",
       "       1.10943991e+08, 8.34987958e+07, 7.69736234e+07, 8.56863315e+07,\n",
       "       1.23446715e+08, 1.10175052e+08, 7.81487263e+07, 1.24020357e+08,\n",
       "       1.25854839e+08, 9.06112784e+07, 1.19571997e+08, 8.20250008e+07,\n",
       "       9.12260132e+07, 7.29854122e+07, 7.87320810e+07, 1.31674657e+08,\n",
       "       8.64009305e+07, 8.17913680e+07, 2.46058758e+07, 1.37207565e+08,\n",
       "       1.09663214e+08, 8.93484759e+07, 8.40902488e+07, 8.54843553e+07,\n",
       "       6.36549451e+07, 6.90507913e+07, 1.08756758e+08, 1.13488857e+08,\n",
       "       8.10974917e+07, 1.22810925e+08, 8.43142590e+07, 1.20819672e+08,\n",
       "       8.40346771e+07, 8.75342002e+07, 1.36113932e+08, 5.39051124e+07,\n",
       "       8.75497982e+07, 9.74216099e+07, 9.32911077e+07, 7.40421192e+07,\n",
       "       4.45367836e+07, 8.39005306e+07, 8.05702951e+07, 9.73233818e+07,\n",
       "       7.10490248e+07, 9.79829841e+07, 5.58472798e+07, 6.60877129e+07,\n",
       "       1.14245312e+08, 1.36942362e+08, 5.97435995e+07, 8.94246662e+07,\n",
       "       9.68429849e+07, 9.28133675e+07, 5.78080804e+07, 9.07235193e+07,\n",
       "       8.36398693e+07, 1.33410450e+08, 7.34678444e+07, 6.18092859e+07,\n",
       "       1.13922793e+08, 1.24237329e+08, 1.36826003e+08, 1.24074725e+08,\n",
       "       4.31385222e+07, 7.87088585e+07, 1.14886776e+08, 1.12904017e+08,\n",
       "       7.68199948e+07, 9.95979162e+07, 1.13121047e+08, 1.03342758e+08,\n",
       "       8.30275993e+07, 1.16697387e+08, 1.29871002e+08, 6.84539244e+07,\n",
       "       1.28481243e+08, 1.24260020e+08, 1.36795076e+08, 6.61671283e+07,\n",
       "       8.78862467e+07, 8.75022013e+07, 1.12814737e+08, 8.39862950e+07,\n",
       "       5.11693551e+07, 9.01877014e+07, 9.86371754e+07, 8.40680190e+07,\n",
       "       2.65637712e+07, 1.18573322e+08, 1.16599310e+08, 7.00712728e+07,\n",
       "       9.54410184e+07, 1.06216252e+08, 6.45865333e+07, 7.95000788e+07,\n",
       "       1.15289095e+08, 9.89323508e+07, 1.26902743e+08, 6.73761698e+07,\n",
       "       9.99678727e+07, 7.11969614e+07, 6.73002171e+07, 1.01657854e+08,\n",
       "       8.41243258e+07, 9.75721179e+07, 6.96663073e+07, 1.05960434e+08,\n",
       "       1.32326867e+08, 1.13519731e+08, 1.10850763e+08, 7.81862907e+07,\n",
       "       7.56092195e+07, 6.75668498e+07, 8.39646488e+07, 7.06647527e+07,\n",
       "       1.13899661e+08, 8.35676411e+07, 7.98072210e+07, 1.10980837e+08,\n",
       "       1.12901840e+08, 6.14398604e+07, 6.11421973e+07, 8.40407463e+07,\n",
       "       6.40766345e+07, 6.98045086e+07, 1.24925876e+08, 1.19189096e+08,\n",
       "       1.23366662e+08, 7.49364363e+07, 1.18350513e+08, 9.53392055e+07,\n",
       "       1.11456653e+08, 1.16593789e+08, 8.28975869e+07, 8.74969363e+07,\n",
       "       5.70402157e+07, 7.34445943e+07, 6.48860925e+07, 2.97163974e+07,\n",
       "       1.18494288e+08, 6.79931802e+07, 1.30134878e+08, 9.72342368e+07,\n",
       "       6.74653910e+07, 6.78267770e+07, 1.26713291e+08, 9.79397607e+07,\n",
       "       8.36298417e+07, 1.09182123e+08, 1.18470505e+08, 9.79521128e+07,\n",
       "       9.39708386e+07, 4.77553671e+07, 8.37660814e+07, 7.77344374e+07,\n",
       "       9.94128273e+07, 5.32271756e+07, 7.82966316e+07, 1.06114258e+08,\n",
       "       6.15318404e+07, 1.35200046e+08, 1.16370581e+08, 7.93812250e+07,\n",
       "       6.12381401e+07, 1.31631163e+08, 1.09841891e+07, 8.36159200e+07,\n",
       "       9.87649843e+07, 1.03871534e+08, 6.64702753e+07, 1.36689907e+08,\n",
       "       1.08651953e+08, 4.40015271e+07, 1.23426086e+08, 1.07234064e+08,\n",
       "       7.26509650e+07, 6.46084523e+07, 6.86262480e+07, 1.29922777e+08,\n",
       "       7.09894415e+07, 8.74364088e+07, 1.26815295e+08, 7.70600386e+07,\n",
       "       7.06698978e+07, 9.73691798e+07, 9.33299511e+07, 9.86204663e+07,\n",
       "       8.97718839e+07, 6.25855182e+07, 9.77154900e+07, 8.67112890e+07,\n",
       "       6.07873863e+07, 1.07532318e+08, 1.12820932e+08, 7.53204575e+07,\n",
       "       9.78000957e+07, 9.01746216e+07, 8.66940186e+07, 8.65026127e+07,\n",
       "       1.26318812e+08, 1.04743008e+08, 8.73499748e+07, 1.01109745e+08,\n",
       "       7.23233744e+07, 7.16494019e+07, 1.20638778e+08, 7.33646828e+07,\n",
       "       6.20840603e+07, 4.64499195e+07, 1.06443612e+08, 7.80109882e+07,\n",
       "       9.81276872e+07, 1.01882268e+08, 1.13009523e+08, 1.25144647e+08,\n",
       "       7.19621502e+07, 1.03401805e+08, 5.54566921e+07, 1.36788306e+08,\n",
       "       8.74921767e+07, 5.58088994e+07, 1.05897921e+08, 7.80982893e+07,\n",
       "       4.77149539e+07, 8.76462829e+07, 6.63414996e+07, 1.13691457e+08,\n",
       "       1.37213134e+08, 4.89396064e+07, 7.67226149e+07, 1.13415854e+08,\n",
       "       1.02514533e+08, 7.14576587e+07, 1.07472732e+08, 1.13136500e+08,\n",
       "       1.24052489e+08, 3.48742113e+07, 1.04950373e+08, 6.09276743e+07,\n",
       "       1.08627060e+08, 1.18504576e+08, 9.80100132e+07, 1.21516378e+08,\n",
       "       7.67686244e+07, 1.23100733e+08, 9.76880265e+07, 6.30655125e+07,\n",
       "       1.29796645e+08, 8.68945384e+07, 7.66211265e+07, 8.89236443e+07,\n",
       "       1.35710356e+07, 9.90925982e+07, 7.70395704e+07, 7.33775775e+07,\n",
       "       4.31512240e+06, 1.14952251e+08, 1.35074882e+08, 5.98860535e+07,\n",
       "       8.49718492e+07, 6.85170625e+07, 1.13549453e+08, 1.03174258e+08,\n",
       "       1.23194268e+08, 7.07884151e+07, 8.37968036e+07, 8.99260555e+07,\n",
       "       1.09619816e+08, 7.37361421e+07, 7.80769007e+07, 1.32771828e+08,\n",
       "       1.13266260e+08, 9.05602040e+07, 1.28234767e+08, 8.44494840e+07,\n",
       "       7.54453998e+07, 1.36740002e+08, 7.42829844e+07, 1.06682854e+08])"
      ]
     },
     "execution_count": 27,
     "metadata": {},
     "output_type": "execute_result"
    }
   ],
   "source": [
    "from sklearn.linear_model  import  LinearRegression as lr\n",
    "regressor=lr()\n",
    "regressor.fit(X_train,y_train)\n",
    "y_pred=regressor.predict(X_test)\n",
    "\n",
    "\n",
    "\n"
   ]
  },
  {
   "cell_type": "code",
   "execution_count": 30,
   "id": "05fa6b26",
   "metadata": {},
   "outputs": [
    {
     "name": "stdout",
     "output_type": "stream",
     "text": [
      "  54770298.818429604 \n",
      " 6492654579184060.0\n"
     ]
    }
   ],
   "source": [
    "from sklearn.metrics import mean_absolute_error, mean_squared_error,r2_score\n",
    "mae = mean_absolute_error(y_pred, y_test)\n",
    "mse = mean_squared_error(y_pred, y_test, squared=True)\n",
    "print(' ',mae,'\\n',mse)\n"
   ]
  },
  {
   "cell_type": "code",
   "execution_count": 33,
   "id": "e9b26375",
   "metadata": {},
   "outputs": [
    {
     "data": {
      "text/plain": [
       "0.13835829092280483"
      ]
     },
     "execution_count": 33,
     "metadata": {},
     "output_type": "execute_result"
    }
   ],
   "source": [
    "r2_score(y_test,y_pred)\n",
    "\n",
    "\n",
    "\n",
    "\n"
   ]
  },
  {
   "cell_type": "code",
   "execution_count": 73,
   "id": "00e5a1e1",
   "metadata": {},
   "outputs": [
    {
     "data": {
      "text/plain": [
       "6492654579184060.0"
      ]
     },
     "execution_count": 73,
     "metadata": {},
     "output_type": "execute_result"
    }
   ],
   "source": [
    "mse = mean_squared_error(y_pred, y_test, squared=True)\n",
    "mse\n"
   ]
  },
  {
   "cell_type": "code",
   "execution_count": 40,
   "id": "d0dbba18",
   "metadata": {},
   "outputs": [
    {
     "name": "stdout",
     "output_type": "stream",
     "text": [
      "[-3.06299123e+08]\n"
     ]
    },
    {
     "name": "stderr",
     "output_type": "stream",
     "text": [
      "C:\\Users\\KIIT\\anaconda3\\lib\\site-packages\\sklearn\\base.py:450: UserWarning: X does not have valid feature names, but LinearRegression was fitted with feature names\n",
      "  warnings.warn(\n"
     ]
    }
   ],
   "source": [
    "print(regressor.predict([[ 257806500,1.719333,2.028000,1.55333,1.5886,1.588667]]))\n",
    "\n",
    "\n",
    "\n",
    "\n",
    "                         \n"
   ]
  },
  {
   "cell_type": "code",
   "execution_count": 41,
   "id": "77c40d1b",
   "metadata": {
    "scrolled": true
   },
   "outputs": [
    {
     "data": {
      "text/html": [
       "<div>\n",
       "<style scoped>\n",
       "    .dataframe tbody tr th:only-of-type {\n",
       "        vertical-align: middle;\n",
       "    }\n",
       "\n",
       "    .dataframe tbody tr th {\n",
       "        vertical-align: top;\n",
       "    }\n",
       "\n",
       "    .dataframe thead th {\n",
       "        text-align: right;\n",
       "    }\n",
       "</style>\n",
       "<table border=\"1\" class=\"dataframe\">\n",
       "  <thead>\n",
       "    <tr style=\"text-align: right;\">\n",
       "      <th></th>\n",
       "      <th>Date</th>\n",
       "      <th>Open</th>\n",
       "      <th>High</th>\n",
       "      <th>Low</th>\n",
       "      <th>Close</th>\n",
       "      <th>Adj Close</th>\n",
       "      <th>Volume</th>\n",
       "    </tr>\n",
       "  </thead>\n",
       "  <tbody>\n",
       "    <tr>\n",
       "      <th>0</th>\n",
       "      <td>1277856000000000000</td>\n",
       "      <td>1.719333</td>\n",
       "      <td>2.028000</td>\n",
       "      <td>1.553333</td>\n",
       "      <td>1.588667</td>\n",
       "      <td>1.588667</td>\n",
       "      <td>257806500</td>\n",
       "    </tr>\n",
       "    <tr>\n",
       "      <th>1</th>\n",
       "      <td>1277942400000000000</td>\n",
       "      <td>1.666667</td>\n",
       "      <td>1.728000</td>\n",
       "      <td>1.351333</td>\n",
       "      <td>1.464000</td>\n",
       "      <td>1.464000</td>\n",
       "      <td>123282000</td>\n",
       "    </tr>\n",
       "    <tr>\n",
       "      <th>2</th>\n",
       "      <td>1278028800000000000</td>\n",
       "      <td>1.533333</td>\n",
       "      <td>1.540000</td>\n",
       "      <td>1.247333</td>\n",
       "      <td>1.280000</td>\n",
       "      <td>1.280000</td>\n",
       "      <td>77097000</td>\n",
       "    </tr>\n",
       "    <tr>\n",
       "      <th>3</th>\n",
       "      <td>1278374400000000000</td>\n",
       "      <td>1.333333</td>\n",
       "      <td>1.333333</td>\n",
       "      <td>1.055333</td>\n",
       "      <td>1.074000</td>\n",
       "      <td>1.074000</td>\n",
       "      <td>103003500</td>\n",
       "    </tr>\n",
       "    <tr>\n",
       "      <th>4</th>\n",
       "      <td>1278460800000000000</td>\n",
       "      <td>1.093333</td>\n",
       "      <td>1.108667</td>\n",
       "      <td>0.998667</td>\n",
       "      <td>1.053333</td>\n",
       "      <td>1.053333</td>\n",
       "      <td>103825500</td>\n",
       "    </tr>\n",
       "    <tr>\n",
       "      <th>...</th>\n",
       "      <td>...</td>\n",
       "      <td>...</td>\n",
       "      <td>...</td>\n",
       "      <td>...</td>\n",
       "      <td>...</td>\n",
       "      <td>...</td>\n",
       "      <td>...</td>\n",
       "    </tr>\n",
       "    <tr>\n",
       "      <th>3072</th>\n",
       "      <td>1663027200000000000</td>\n",
       "      <td>292.899994</td>\n",
       "      <td>297.399994</td>\n",
       "      <td>290.399994</td>\n",
       "      <td>292.130005</td>\n",
       "      <td>292.130005</td>\n",
       "      <td>68229600</td>\n",
       "    </tr>\n",
       "    <tr>\n",
       "      <th>3073</th>\n",
       "      <td>1663113600000000000</td>\n",
       "      <td>292.239990</td>\n",
       "      <td>306.000000</td>\n",
       "      <td>291.640015</td>\n",
       "      <td>302.609985</td>\n",
       "      <td>302.609985</td>\n",
       "      <td>72628700</td>\n",
       "    </tr>\n",
       "    <tr>\n",
       "      <th>3074</th>\n",
       "      <td>1663200000000000000</td>\n",
       "      <td>301.829987</td>\n",
       "      <td>309.119995</td>\n",
       "      <td>300.720001</td>\n",
       "      <td>303.750000</td>\n",
       "      <td>303.750000</td>\n",
       "      <td>64795500</td>\n",
       "    </tr>\n",
       "    <tr>\n",
       "      <th>3075</th>\n",
       "      <td>1663286400000000000</td>\n",
       "      <td>299.609985</td>\n",
       "      <td>303.709991</td>\n",
       "      <td>295.600006</td>\n",
       "      <td>303.350006</td>\n",
       "      <td>303.350006</td>\n",
       "      <td>86949500</td>\n",
       "    </tr>\n",
       "    <tr>\n",
       "      <th>3076</th>\n",
       "      <td>1663545600000000000</td>\n",
       "      <td>300.089996</td>\n",
       "      <td>309.839996</td>\n",
       "      <td>297.799988</td>\n",
       "      <td>309.070007</td>\n",
       "      <td>309.070007</td>\n",
       "      <td>60060200</td>\n",
       "    </tr>\n",
       "  </tbody>\n",
       "</table>\n",
       "<p>3077 rows × 7 columns</p>\n",
       "</div>"
      ],
      "text/plain": [
       "                     Date        Open        High         Low       Close  \\\n",
       "0     1277856000000000000    1.719333    2.028000    1.553333    1.588667   \n",
       "1     1277942400000000000    1.666667    1.728000    1.351333    1.464000   \n",
       "2     1278028800000000000    1.533333    1.540000    1.247333    1.280000   \n",
       "3     1278374400000000000    1.333333    1.333333    1.055333    1.074000   \n",
       "4     1278460800000000000    1.093333    1.108667    0.998667    1.053333   \n",
       "...                   ...         ...         ...         ...         ...   \n",
       "3072  1663027200000000000  292.899994  297.399994  290.399994  292.130005   \n",
       "3073  1663113600000000000  292.239990  306.000000  291.640015  302.609985   \n",
       "3074  1663200000000000000  301.829987  309.119995  300.720001  303.750000   \n",
       "3075  1663286400000000000  299.609985  303.709991  295.600006  303.350006   \n",
       "3076  1663545600000000000  300.089996  309.839996  297.799988  309.070007   \n",
       "\n",
       "       Adj Close     Volume  \n",
       "0       1.588667  257806500  \n",
       "1       1.464000  123282000  \n",
       "2       1.280000   77097000  \n",
       "3       1.074000  103003500  \n",
       "4       1.053333  103825500  \n",
       "...          ...        ...  \n",
       "3072  292.130005   68229600  \n",
       "3073  302.609985   72628700  \n",
       "3074  303.750000   64795500  \n",
       "3075  303.350006   86949500  \n",
       "3076  309.070007   60060200  \n",
       "\n",
       "[3077 rows x 7 columns]"
      ]
     },
     "execution_count": 41,
     "metadata": {},
     "output_type": "execute_result"
    }
   ],
   "source": [
    "df\n"
   ]
  },
  {
   "cell_type": "markdown",
   "id": "32fa01be",
   "metadata": {},
   "source": [
    "#  now performing scalling  over dataset\n",
    " then verify the result"
   ]
  },
  {
   "cell_type": "code",
   "execution_count": 65,
   "id": "5c458487",
   "metadata": {},
   "outputs": [
    {
     "data": {
      "text/html": [
       "<div>\n",
       "<style scoped>\n",
       "    .dataframe tbody tr th:only-of-type {\n",
       "        vertical-align: middle;\n",
       "    }\n",
       "\n",
       "    .dataframe tbody tr th {\n",
       "        vertical-align: top;\n",
       "    }\n",
       "\n",
       "    .dataframe thead th {\n",
       "        text-align: right;\n",
       "    }\n",
       "</style>\n",
       "<table border=\"1\" class=\"dataframe\">\n",
       "  <thead>\n",
       "    <tr style=\"text-align: right;\">\n",
       "      <th></th>\n",
       "      <th>Date</th>\n",
       "      <th>Open</th>\n",
       "      <th>High</th>\n",
       "      <th>Low</th>\n",
       "      <th>Close</th>\n",
       "      <th>Adj Close</th>\n",
       "      <th>Volume</th>\n",
       "    </tr>\n",
       "  </thead>\n",
       "  <tbody>\n",
       "    <tr>\n",
       "      <th>0</th>\n",
       "      <td>0.000000</td>\n",
       "      <td>0.001568</td>\n",
       "      <td>0.002224</td>\n",
       "      <td>0.001371</td>\n",
       "      <td>0.001309</td>\n",
       "      <td>0.001309</td>\n",
       "      <td>0.280640</td>\n",
       "    </tr>\n",
       "    <tr>\n",
       "      <th>1</th>\n",
       "      <td>0.000224</td>\n",
       "      <td>0.001439</td>\n",
       "      <td>0.001498</td>\n",
       "      <td>0.000871</td>\n",
       "      <td>0.001004</td>\n",
       "      <td>0.001004</td>\n",
       "      <td>0.133184</td>\n",
       "    </tr>\n",
       "    <tr>\n",
       "      <th>2</th>\n",
       "      <td>0.000448</td>\n",
       "      <td>0.001114</td>\n",
       "      <td>0.001043</td>\n",
       "      <td>0.000614</td>\n",
       "      <td>0.000554</td>\n",
       "      <td>0.000554</td>\n",
       "      <td>0.082560</td>\n",
       "    </tr>\n",
       "    <tr>\n",
       "      <th>3</th>\n",
       "      <td>0.001344</td>\n",
       "      <td>0.000627</td>\n",
       "      <td>0.000543</td>\n",
       "      <td>0.000140</td>\n",
       "      <td>0.000051</td>\n",
       "      <td>0.000051</td>\n",
       "      <td>0.110956</td>\n",
       "    </tr>\n",
       "    <tr>\n",
       "      <th>4</th>\n",
       "      <td>0.001568</td>\n",
       "      <td>0.000042</td>\n",
       "      <td>0.000000</td>\n",
       "      <td>0.000000</td>\n",
       "      <td>0.000000</td>\n",
       "      <td>0.000000</td>\n",
       "      <td>0.111857</td>\n",
       "    </tr>\n",
       "  </tbody>\n",
       "</table>\n",
       "</div>"
      ],
      "text/plain": [
       "       Date      Open      High       Low     Close  Adj Close    Volume\n",
       "0  0.000000  0.001568  0.002224  0.001371  0.001309   0.001309  0.280640\n",
       "1  0.000224  0.001439  0.001498  0.000871  0.001004   0.001004  0.133184\n",
       "2  0.000448  0.001114  0.001043  0.000614  0.000554   0.000554  0.082560\n",
       "3  0.001344  0.000627  0.000543  0.000140  0.000051   0.000051  0.110956\n",
       "4  0.001568  0.000042  0.000000  0.000000  0.000000   0.000000  0.111857"
      ]
     },
     "execution_count": 65,
     "metadata": {},
     "output_type": "execute_result"
    }
   ],
   "source": [
    "scaler = preprocessing.MinMaxScaler()\n",
    "names = df.columns\n",
    "d = scaler.fit_transform(df)\n",
    "scaled_df = pd.DataFrame(d, columns=names)\n",
    "scaled_df.head()"
   ]
  },
  {
   "cell_type": "code",
   "execution_count": 67,
   "id": "7f60c9be",
   "metadata": {
    "scrolled": true
   },
   "outputs": [
    {
     "data": {
      "text/plain": [
       "0.000000    1\n",
       "0.625672    1\n",
       "0.664875    1\n",
       "0.665099    1\n",
       "0.665323    1\n",
       "           ..\n",
       "0.334229    1\n",
       "0.334453    1\n",
       "0.335125    1\n",
       "0.335349    1\n",
       "1.000000    1\n",
       "Name: Date, Length: 3077, dtype: int64"
      ]
     },
     "execution_count": 67,
     "metadata": {},
     "output_type": "execute_result"
    }
   ],
   "source": [
    "X=scaled_df.iloc[:,:-1]\n",
    "y=scaled_df.iloc[:,-1]\n",
    "\n",
    "\n",
    "\n",
    "\n",
    "\n",
    "\n",
    "\n",
    "\n",
    "\n",
    "\n"
   ]
  },
  {
   "cell_type": "markdown",
   "id": "b5abc367",
   "metadata": {},
   "source": [
    "#Outlier treatment "
   ]
  },
  {
   "cell_type": "code",
   "execution_count": 76,
   "id": "a495dc30",
   "metadata": {},
   "outputs": [
    {
     "data": {
      "text/plain": [
       "{'whiskers': [<matplotlib.lines.Line2D at 0x233df31c250>,\n",
       "  <matplotlib.lines.Line2D at 0x233df31c5e0>],\n",
       " 'caps': [<matplotlib.lines.Line2D at 0x233df31c970>,\n",
       "  <matplotlib.lines.Line2D at 0x233df31cd00>],\n",
       " 'boxes': [<matplotlib.lines.Line2D at 0x233df58de80>],\n",
       " 'medians': [<matplotlib.lines.Line2D at 0x233df3250d0>],\n",
       " 'fliers': [<matplotlib.lines.Line2D at 0x233df325460>],\n",
       " 'means': []}"
      ]
     },
     "execution_count": 76,
     "metadata": {},
     "output_type": "execute_result"
    },
    {
     "data": {
      "image/png": "[encoded data removed]",
      "text/plain": [
       "<Figure size 432x288 with 1 Axes>"
      ]
     },
     "metadata": {
      "needs_background": "light"
     },
     "output_type": "display_data"
    }
   ],
   "source": [
    "plt.boxplot(scaled_df['Volume'])\n"
   ]
  },
  {
   "cell_type": "code",
   "execution_count": 79,
   "id": "a26d6caf",
   "metadata": {},
   "outputs": [
    {
     "data": {
      "text/plain": [
       "1.4987679211469525"
      ]
     },
     "execution_count": 79,
     "metadata": {},
     "output_type": "execute_result"
    }
   ],
   "source": [
    "x=scaled_df['Date']\n",
    "upper = x.quantile(.75) + 1.5 * (x.quantile(.75) - x.quantile(.25)) \n",
    "lower = x.quantile(.25) - 1.5 * (x.quantile(.75) - x.quantile(.25))\n",
    "\n",
    "\n"
   ]
  },
  {
   "cell_type": "code",
   "execution_count": null,
   "id": "4d50660f",
   "metadata": {},
   "outputs": [],
   "source": [
    "scaled_df[scaled_df['Date'] >= upper].index"
   ]
  },
  {
   "cell_type": "code",
   "execution_count": 80,
   "id": "e94fca71",
   "metadata": {},
   "outputs": [],
   "source": [
    "scaled_df = scaled_df.drop(index = scaled_df[scaled_df['Volume'] >= upper].index)\n"
   ]
  },
  {
   "cell_type": "code",
   "execution_count": 81,
   "id": "25e39077",
   "metadata": {},
   "outputs": [
    {
     "data": {
      "text/plain": [
       "(3077, 7)"
      ]
     },
     "execution_count": 81,
     "metadata": {},
     "output_type": "execute_result"
    }
   ],
   "source": [
    "scaled_df.shape\n"
   ]
  },
  {
   "cell_type": "code",
   "execution_count": 82,
   "id": "b992a781",
   "metadata": {},
   "outputs": [],
   "source": [
    "X=scaled_df.iloc[:,:-1]\n",
    "y=scaled_df.iloc[:,-1]\n",
    "\n"
   ]
  },
  {
   "cell_type": "code",
   "execution_count": 83,
   "id": "faee83fd",
   "metadata": {},
   "outputs": [
    {
     "data": {
      "text/plain": [
       "((2461, 6), (616, 6), (2461,), (616,))"
      ]
     },
     "execution_count": 83,
     "metadata": {},
     "output_type": "execute_result"
    }
   ],
   "source": [
    "from sklearn import preprocessing\n",
    "from sklearn.model_selection import train_test_split\n",
    "\n",
    "X_train, X_test, y_train, y_test = train_test_split(X, y, test_size = 0.2, random_state = 0)\n",
    "X_train.shape, X_test.shape, y_train.shape, y_test.shape\n",
    "\n",
    "\n"
   ]
  },
  {
   "cell_type": "code",
   "execution_count": 84,
   "id": "393363ab",
   "metadata": {},
   "outputs": [],
   "source": [
    "regressor=lr()\n",
    "regressor.fit(X_train,y_train)\n",
    "y_pred=regressor.predict(X_test)\n"
   ]
  },
  {
   "cell_type": "markdown",
   "id": "acaa56de",
   "metadata": {},
   "source": [
    "#  r2_score is comming better after  scalling  "
   ]
  },
  {
   "cell_type": "code",
   "execution_count": 85,
   "id": "b4d9e992",
   "metadata": {},
   "outputs": [
    {
     "data": {
      "text/plain": [
       "0.32132875364843827"
      ]
     },
     "execution_count": 85,
     "metadata": {},
     "output_type": "execute_result"
    }
   ],
   "source": [
    "r2_score(y_test,y_pred)"
   ]
  },
  {
   "cell_type": "code",
   "execution_count": 86,
   "id": "beb0b736",
   "metadata": {},
   "outputs": [
    {
     "data": {
      "text/plain": [
       "0.006144342272897745"
      ]
     },
     "execution_count": 86,
     "metadata": {},
     "output_type": "execute_result"
    }
   ],
   "source": [
    "mse = mean_squared_error(y_pred, y_test, squared=True)\n",
    "mse\n",
    "\n"
   ]
  },
  {
   "cell_type": "markdown",
   "id": "205e187e",
   "metadata": {},
   "source": [
    "# Then using other model "
   ]
  },
  {
   "cell_type": "code",
   "execution_count": 88,
   "id": "9083fee8",
   "metadata": {},
   "outputs": [
    {
     "data": {
      "text/html": [
       "<style>#sk-container-id-1 {color: black;background-color: white;}#sk-container-id-1 pre{padding: 0;}#sk-container-id-1 div.sk-toggleable {background-color: white;}#sk-container-id-1 label.sk-toggleable__label {cursor: pointer;display: block;width: 100%;margin-bottom: 0;padding: 0.3em;box-sizing: border-box;text-align: center;}#sk-container-id-1 label.sk-toggleable__label-arrow:before {content: \"▸\";float: left;margin-right: 0.25em;color: #696969;}#sk-container-id-1 label.sk-toggleable__label-arrow:hover:before {color: black;}#sk-container-id-1 div.sk-estimator:hover label.sk-toggleable__label-arrow:before {color: black;}#sk-container-id-1 div.sk-toggleable__content {max-height: 0;max-width: 0;overflow: hidden;text-align: left;background-color: #f0f8ff;}#sk-container-id-1 div.sk-toggleable__content pre {margin: 0.2em;color: black;border-radius: 0.25em;background-color: #f0f8ff;}#sk-container-id-1 input.sk-toggleable__control:checked~div.sk-toggleable__content {max-height: 200px;max-width: 100%;overflow: auto;}#sk-container-id-1 input.sk-toggleable__control:checked~label.sk-toggleable__label-arrow:before {content: \"▾\";}#sk-container-id-1 div.sk-estimator input.sk-toggleable__control:checked~label.sk-toggleable__label {background-color: #d4ebff;}#sk-container-id-1 div.sk-label input.sk-toggleable__control:checked~label.sk-toggleable__label {background-color: #d4ebff;}#sk-container-id-1 input.sk-hidden--visually {border: 0;clip: rect(1px 1px 1px 1px);clip: rect(1px, 1px, 1px, 1px);height: 1px;margin: -1px;overflow: hidden;padding: 0;position: absolute;width: 1px;}#sk-container-id-1 div.sk-estimator {font-family: monospace;background-color: #f0f8ff;border: 1px dotted black;border-radius: 0.25em;box-sizing: border-box;margin-bottom: 0.5em;}#sk-container-id-1 div.sk-estimator:hover {background-color: #d4ebff;}#sk-container-id-1 div.sk-parallel-item::after {content: \"\";width: 100%;border-bottom: 1px solid gray;flex-grow: 1;}#sk-container-id-1 div.sk-label:hover label.sk-toggleable__label {background-color: #d4ebff;}#sk-container-id-1 div.sk-serial::before {content: \"\";position: absolute;border-left: 1px solid gray;box-sizing: border-box;top: 0;bottom: 0;left: 50%;z-index: 0;}#sk-container-id-1 div.sk-serial {display: flex;flex-direction: column;align-items: center;background-color: white;padding-right: 0.2em;padding-left: 0.2em;position: relative;}#sk-container-id-1 div.sk-item {position: relative;z-index: 1;}#sk-container-id-1 div.sk-parallel {display: flex;align-items: stretch;justify-content: center;background-color: white;position: relative;}#sk-container-id-1 div.sk-item::before, #sk-container-id-1 div.sk-parallel-item::before {content: \"\";position: absolute;border-left: 1px solid gray;box-sizing: border-box;top: 0;bottom: 0;left: 50%;z-index: -1;}#sk-container-id-1 div.sk-parallel-item {display: flex;flex-direction: column;z-index: 1;position: relative;background-color: white;}#sk-container-id-1 div.sk-parallel-item:first-child::after {align-self: flex-end;width: 50%;}#sk-container-id-1 div.sk-parallel-item:last-child::after {align-self: flex-start;width: 50%;}#sk-container-id-1 div.sk-parallel-item:only-child::after {width: 0;}#sk-container-id-1 div.sk-dashed-wrapped {border: 1px dashed gray;margin: 0 0.4em 0.5em 0.4em;box-sizing: border-box;padding-bottom: 0.4em;background-color: white;}#sk-container-id-1 div.sk-label label {font-family: monospace;font-weight: bold;display: inline-block;line-height: 1.2em;}#sk-container-id-1 div.sk-label-container {text-align: center;}#sk-container-id-1 div.sk-container {/* jupyter's `normalize.less` sets `[hidden] { display: none; }` but bootstrap.min.css set `[hidden] { display: none !important; }` so we also need the `!important` here to be able to override the default hidden behavior on the sphinx rendered scikit-learn.org. See: https://github.com/scikit-learn/scikit-learn/issues/21755 */display: inline-block !important;position: relative;}#sk-container-id-1 div.sk-text-repr-fallback {display: none;}</style><div id=\"sk-container-id-1\" class=\"sk-top-container\"><div class=\"sk-text-repr-fallback\"><pre>DecisionTreeRegressor()</pre><b>In a Jupyter environment, please rerun this cell to show the HTML representation or trust the notebook. <br />On GitHub, the HTML representation is unable to render, please try loading this page with nbviewer.org.</b></div><div class=\"sk-container\" hidden><div class=\"sk-item\"><div class=\"sk-estimator sk-toggleable\"><input class=\"sk-toggleable__control sk-hidden--visually\" id=\"sk-estimator-id-1\" type=\"checkbox\" checked><label for=\"sk-estimator-id-1\" class=\"sk-toggleable__label sk-toggleable__label-arrow\">DecisionTreeRegressor</label><div class=\"sk-toggleable__content\"><pre>DecisionTreeRegressor()</pre></div></div></div></div></div>"
      ],
      "text/plain": [
       "DecisionTreeRegressor()"
      ]
     },
     "execution_count": 88,
     "metadata": {},
     "output_type": "execute_result"
    }
   ],
   "source": [
    "from sklearn.tree import DecisionTreeRegressor\n",
    "treeReg = DecisionTreeRegressor()\n",
    "treeReg.fit(X_train, y_train)\n",
    "\n"
   ]
  },
  {
   "cell_type": "code",
   "execution_count": 89,
   "id": "3bb169cf",
   "metadata": {},
   "outputs": [
    {
     "data": {
      "text/plain": [
       "1.0"
      ]
     },
     "execution_count": 89,
     "metadata": {},
     "output_type": "execute_result"
    }
   ],
   "source": [
    "r2_score(y_train, treeReg.predict(X_train))\n"
   ]
  },
  {
   "cell_type": "markdown",
   "id": "6b2ba137",
   "metadata": {},
   "source": [
    "#  r2_score is better  than linear model "
   ]
  },
  {
   "cell_type": "code",
   "execution_count": 90,
   "id": "486bd385",
   "metadata": {},
   "outputs": [
    {
     "data": {
      "text/plain": [
       "0.6597328171436381"
      ]
     },
     "execution_count": 90,
     "metadata": {},
     "output_type": "execute_result"
    }
   ],
   "source": [
    "r2_score(y_test, treeReg.predict(X_test))\n"
   ]
  },
  {
   "cell_type": "code",
   "execution_count": 92,
   "id": "649426cb",
   "metadata": {},
   "outputs": [
    {
     "name": "stdout",
     "output_type": "stream",
     "text": [
      "Fitting 10 folds for each of 13 candidates, totalling 130 fits\n"
     ]
    },
    {
     "data": {
      "text/html": [
       "<style>#sk-container-id-2 {color: black;background-color: white;}#sk-container-id-2 pre{padding: 0;}#sk-container-id-2 div.sk-toggleable {background-color: white;}#sk-container-id-2 label.sk-toggleable__label {cursor: pointer;display: block;width: 100%;margin-bottom: 0;padding: 0.3em;box-sizing: border-box;text-align: center;}#sk-container-id-2 label.sk-toggleable__label-arrow:before {content: \"▸\";float: left;margin-right: 0.25em;color: #696969;}#sk-container-id-2 label.sk-toggleable__label-arrow:hover:before {color: black;}#sk-container-id-2 div.sk-estimator:hover label.sk-toggleable__label-arrow:before {color: black;}#sk-container-id-2 div.sk-toggleable__content {max-height: 0;max-width: 0;overflow: hidden;text-align: left;background-color: #f0f8ff;}#sk-container-id-2 div.sk-toggleable__content pre {margin: 0.2em;color: black;border-radius: 0.25em;background-color: #f0f8ff;}#sk-container-id-2 input.sk-toggleable__control:checked~div.sk-toggleable__content {max-height: 200px;max-width: 100%;overflow: auto;}#sk-container-id-2 input.sk-toggleable__control:checked~label.sk-toggleable__label-arrow:before {content: \"▾\";}#sk-container-id-2 div.sk-estimator input.sk-toggleable__control:checked~label.sk-toggleable__label {background-color: #d4ebff;}#sk-container-id-2 div.sk-label input.sk-toggleable__control:checked~label.sk-toggleable__label {background-color: #d4ebff;}#sk-container-id-2 input.sk-hidden--visually {border: 0;clip: rect(1px 1px 1px 1px);clip: rect(1px, 1px, 1px, 1px);height: 1px;margin: -1px;overflow: hidden;padding: 0;position: absolute;width: 1px;}#sk-container-id-2 div.sk-estimator {font-family: monospace;background-color: #f0f8ff;border: 1px dotted black;border-radius: 0.25em;box-sizing: border-box;margin-bottom: 0.5em;}#sk-container-id-2 div.sk-estimator:hover {background-color: #d4ebff;}#sk-container-id-2 div.sk-parallel-item::after {content: \"\";width: 100%;border-bottom: 1px solid gray;flex-grow: 1;}#sk-container-id-2 div.sk-label:hover label.sk-toggleable__label {background-color: #d4ebff;}#sk-container-id-2 div.sk-serial::before {content: \"\";position: absolute;border-left: 1px solid gray;box-sizing: border-box;top: 0;bottom: 0;left: 50%;z-index: 0;}#sk-container-id-2 div.sk-serial {display: flex;flex-direction: column;align-items: center;background-color: white;padding-right: 0.2em;padding-left: 0.2em;position: relative;}#sk-container-id-2 div.sk-item {position: relative;z-index: 1;}#sk-container-id-2 div.sk-parallel {display: flex;align-items: stretch;justify-content: center;background-color: white;position: relative;}#sk-container-id-2 div.sk-item::before, #sk-container-id-2 div.sk-parallel-item::before {content: \"\";position: absolute;border-left: 1px solid gray;box-sizing: border-box;top: 0;bottom: 0;left: 50%;z-index: -1;}#sk-container-id-2 div.sk-parallel-item {display: flex;flex-direction: column;z-index: 1;position: relative;background-color: white;}#sk-container-id-2 div.sk-parallel-item:first-child::after {align-self: flex-end;width: 50%;}#sk-container-id-2 div.sk-parallel-item:last-child::after {align-self: flex-start;width: 50%;}#sk-container-id-2 div.sk-parallel-item:only-child::after {width: 0;}#sk-container-id-2 div.sk-dashed-wrapped {border: 1px dashed gray;margin: 0 0.4em 0.5em 0.4em;box-sizing: border-box;padding-bottom: 0.4em;background-color: white;}#sk-container-id-2 div.sk-label label {font-family: monospace;font-weight: bold;display: inline-block;line-height: 1.2em;}#sk-container-id-2 div.sk-label-container {text-align: center;}#sk-container-id-2 div.sk-container {/* jupyter's `normalize.less` sets `[hidden] { display: none; }` but bootstrap.min.css set `[hidden] { display: none !important; }` so we also need the `!important` here to be able to override the default hidden behavior on the sphinx rendered scikit-learn.org. See: https://github.com/scikit-learn/scikit-learn/issues/21755 */display: inline-block !important;position: relative;}#sk-container-id-2 div.sk-text-repr-fallback {display: none;}</style><div id=\"sk-container-id-2\" class=\"sk-top-container\"><div class=\"sk-text-repr-fallback\"><pre>GridSearchCV(cv=10, estimator=DecisionTreeRegressor(), n_jobs=-1,\n",
       "             param_grid={&#x27;max_depth&#x27;: range(2, 15)}, verbose=1)</pre><b>In a Jupyter environment, please rerun this cell to show the HTML representation or trust the notebook. <br />On GitHub, the HTML representation is unable to render, please try loading this page with nbviewer.org.</b></div><div class=\"sk-container\" hidden><div class=\"sk-item sk-dashed-wrapped\"><div class=\"sk-label-container\"><div class=\"sk-label sk-toggleable\"><input class=\"sk-toggleable__control sk-hidden--visually\" id=\"sk-estimator-id-2\" type=\"checkbox\" ><label for=\"sk-estimator-id-2\" class=\"sk-toggleable__label sk-toggleable__label-arrow\">GridSearchCV</label><div class=\"sk-toggleable__content\"><pre>GridSearchCV(cv=10, estimator=DecisionTreeRegressor(), n_jobs=-1,\n",
       "             param_grid={&#x27;max_depth&#x27;: range(2, 15)}, verbose=1)</pre></div></div></div><div class=\"sk-parallel\"><div class=\"sk-parallel-item\"><div class=\"sk-item\"><div class=\"sk-label-container\"><div class=\"sk-label sk-toggleable\"><input class=\"sk-toggleable__control sk-hidden--visually\" id=\"sk-estimator-id-3\" type=\"checkbox\" ><label for=\"sk-estimator-id-3\" class=\"sk-toggleable__label sk-toggleable__label-arrow\">estimator: DecisionTreeRegressor</label><div class=\"sk-toggleable__content\"><pre>DecisionTreeRegressor()</pre></div></div></div><div class=\"sk-serial\"><div class=\"sk-item\"><div class=\"sk-estimator sk-toggleable\"><input class=\"sk-toggleable__control sk-hidden--visually\" id=\"sk-estimator-id-4\" type=\"checkbox\" ><label for=\"sk-estimator-id-4\" class=\"sk-toggleable__label sk-toggleable__label-arrow\">DecisionTreeRegressor</label><div class=\"sk-toggleable__content\"><pre>DecisionTreeRegressor()</pre></div></div></div></div></div></div></div></div></div></div>"
      ],
      "text/plain": [
       "GridSearchCV(cv=10, estimator=DecisionTreeRegressor(), n_jobs=-1,\n",
       "             param_grid={'max_depth': range(2, 15)}, verbose=1)"
      ]
     },
     "execution_count": 92,
     "metadata": {},
     "output_type": "execute_result"
    }
   ],
   "source": [
    "from sklearn.model_selection import  GridSearchCV\n",
    "param_grid = {'max_depth' : range(2, 15)}\n",
    "tree_clf = GridSearchCV(DecisionTreeRegressor(), param_grid, cv = 10, n_jobs = -1, verbose = 1)\n",
    "tree_clf.fit(X_train, y_train)\n",
    "\n"
   ]
  },
  {
   "cell_type": "code",
   "execution_count": 93,
   "id": "88b41a73",
   "metadata": {},
   "outputs": [
    {
     "data": {
      "text/plain": [
       "1.0"
      ]
     },
     "execution_count": 93,
     "metadata": {},
     "output_type": "execute_result"
    }
   ],
   "source": [
    "r2_score(y_train, treeReg.predict(X_train))\n"
   ]
  },
  {
   "cell_type": "code",
   "execution_count": 94,
   "id": "76ce66ed",
   "metadata": {},
   "outputs": [
    {
     "data": {
      "text/plain": [
       "0.6597328171436381"
      ]
     },
     "execution_count": 94,
     "metadata": {},
     "output_type": "execute_result"
    }
   ],
   "source": [
    "r2_score(y_test, treeReg.predict(X_test))\n"
   ]
  },
  {
   "cell_type": "code",
   "execution_count": null,
   "id": "28ac8d0c",
   "metadata": {},
   "outputs": [],
   "source": []
  }
 ],
 "metadata": {
  "kernelspec": {
   "display_name": "Python 3 (ipykernel)",
   "language": "python",
   "name": "python3"
  },
  "language_info": {
   "codemirror_mode": {
    "name": "ipython",
    "version": 3
   },
   "file_extension": ".py",
   "mimetype": "text/x-python",
   "name": "python",
   "nbconvert_exporter": "python",
   "pygments_lexer": "ipython3",
   "version": "3.9.7"
  }
 },
 "nbformat": 4,
 "nbformat_minor": 5
}
